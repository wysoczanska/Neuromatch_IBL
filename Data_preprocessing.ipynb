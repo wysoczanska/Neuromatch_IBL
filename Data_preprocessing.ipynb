{
 "cells": [
  {
   "cell_type": "code",
   "execution_count": 70,
   "id": "20b3069e",
   "metadata": {},
   "outputs": [],
   "source": [
    "import pandas as pd\n",
    "import numpy as np\n",
    "import matplotlib.pyplot as plt"
   ]
  },
  {
   "cell_type": "markdown",
   "id": "ac723c4c",
   "metadata": {},
   "source": [
    "Our beautiful functions"
   ]
  },
  {
   "cell_type": "code",
   "execution_count": 80,
   "id": "306d92cc",
   "metadata": {},
   "outputs": [],
   "source": [
    "def history_presentation(sides, outputs):\n",
    "\n",
    "    \"\"\"\n",
    "    sides : np.array of the sides where the stimulus was presented (-1: Left, 1: right)\n",
    "    outputs : np.array of the outputs (0: incorrect, 1: correct)\n",
    "    \"\"\"\n",
    "    reinforced = sides * outputs\n",
    "    punished = sides * (1 - outputs)\n",
    "\n",
    "    return(np.sum(reinforced - punished))\n",
    "\n",
    "\n",
    "def history_decision(decisions, outputs):\n",
    "\n",
    "    \"\"\"\n",
    "    decisions : np.array of the decisions where the stimulus was presented (-1: Left, 1: right)\n",
    "    outputs : np.array of the outputs (0: incorrect, 1: correct)\n",
    "    \"\"\"\n",
    "    reinforced = decisions * outputs\n",
    "    punished = decisions * (1 - outputs)\n",
    "\n",
    "    return(np.sum(reinforced - punished))\n",
    "\n",
    "\n",
    "def bias(sides):\n",
    "    \"\"\"\n",
    "    sides : np.array of the sides where the stimulus was presented (-1: Left, 1: right)\n",
    "    \"\"\"\n",
    "\n",
    "    return(np.mean(sides))\n"
   ]
  },
  {
   "cell_type": "code",
   "execution_count": 98,
   "id": "190d101b",
   "metadata": {},
   "outputs": [],
   "source": [
    "class IBLTrialDataset:\n",
    "\n",
    "    @staticmethod\n",
    "    def apply_hist_per_subject(x, func, window_size=1):\n",
    "        \"\"\"\n",
    "        Applies function (func) on dataframe (x) in given window (wind) after groupBy per subject.\n",
    "\n",
    "        x: pd.DataFrame: (N, n_cols [1 or 2]) - two or one-column dataframe with values need to run function\n",
    "        window_size: int - numer of trials in history\n",
    "\n",
    "        \"\"\"\n",
    "        x = x.values\n",
    "        result = np.zeros(x.shape[0])\n",
    "        if x.ndim > 1:  \n",
    "            padded = np.vstack([np.zeros((window_size, x.shape[-1])), x])  \n",
    "            for i in range(window_size, padded.shape[0]):\n",
    "                x1, x2 = padded[i-window_size: i, 0], padded[i-window_size: i, 1]\n",
    "                result[i-window_size] = func(x1, x2)\n",
    "        else:\n",
    "            padded = np.concatenate([np.zeros(window_size), x]) \n",
    "            for i in range(window_size, padded.shape[0]):\n",
    "                x1 = padded[i-window_size: i]\n",
    "                result[i-window_size] = func(x1)       \n",
    "\n",
    "        return pd.DataFrame(result)\n",
    "\n",
    "\n",
    "    def create_dataset(self, df, window_size):\n",
    "        \"\"\"\n",
    "        Creates dataset as model input (X,y)\n",
    "        \n",
    "        df: pd.DataFrame - input data frame\n",
    "        window_size: int - window_size of history trials\n",
    "        \n",
    "        output: \n",
    "        X: np.array(N, num_features) - transformed dataset of features that can be an input to the model\n",
    "        y: np.array(N,) - numpy array of choices true choices\n",
    "        \"\"\"\n",
    "\n",
    "        df.sort_values(by=['session_start_time', 'trial_id'], inplace=True) # to make sure we're sorted for the grouping later on\n",
    "        \n",
    "        # ground truth stimuli sides\n",
    "        df['sides'] = df['signed_contrast']\n",
    "        df.loc[df.sides > 0, 'sides'] = 1\n",
    "        df.loc[df.sides < 0, 'sides'] = -1\n",
    "\n",
    "        # the actual mice response to the stimuli \n",
    "        # TODO: verify !\n",
    "        df.loc[df.trial_response_choice == 'CCW', 'trial_response_choice'] = 1\n",
    "        df.loc[df.trial_response_choice == 'CW', 'trial_response_choice'] = -1\n",
    "        \n",
    "        # derive a column for correct answers\n",
    "        df['correct'] = df.trial_response_choice == df.sides\n",
    "        \n",
    "#         # get history presentation per trial \n",
    "        df['history_presentation'] = (df.groupby('subject_uuid')['sides', 'correct'].apply(lambda x: self.apply_hist_per_subject(x, history_presentation, window_size)).reset_index()).iloc[:, -1]\n",
    "        \n",
    "#         # get history decision per trial \n",
    "        df['history_decision'] = (df.groupby('subject_uuid')['trial_response_choice', 'correct'].apply(lambda x: self.apply_hist_per_subject(x, history_decision, window_size)).reset_index()).iloc[:, -1]\n",
    "        \n",
    "        # get bias history per trial\n",
    "        df['bias'] = (df.groupby('subject_uuid')['sides'].apply(lambda x: self.apply_hist_per_subject(x, bias, window_size)).reset_index()).iloc[:, -1]\n",
    "\n",
    "        return df[['signed_contrast', 'history_presentation', 'history_decision', 'bias']].values, df['trial_response_choice'].values\n",
    "    "
   ]
  },
  {
   "cell_type": "code",
   "execution_count": 103,
   "id": "43f7a90a",
   "metadata": {},
   "outputs": [
    {
     "name": "stderr",
     "output_type": "stream",
     "text": [
      "/var/folders/gm/0smpdjfx2bsgbk13mwt50zdc0000gn/T/ipykernel_54920/732745112.py:56: FutureWarning: Indexing with multiple keys (implicitly converted to a tuple of keys) will be deprecated, use a list instead.\n",
      "  df['history_presentation'] = (df.groupby('subject_uuid')['sides', 'correct'].apply(lambda x: self.apply_hist_per_subject(x, history_presentation, window_size)).reset_index()).iloc[:, -1]\n",
      "/var/folders/gm/0smpdjfx2bsgbk13mwt50zdc0000gn/T/ipykernel_54920/732745112.py:59: FutureWarning: Indexing with multiple keys (implicitly converted to a tuple of keys) will be deprecated, use a list instead.\n",
      "  df['history_decision'] = (df.groupby('subject_uuid')['trial_response_choice', 'correct'].apply(lambda x: self.apply_hist_per_subject(x, history_decision, window_size)).reset_index()).iloc[:, -1]\n"
     ]
    }
   ],
   "source": [
    "data_df = pd.read_csv('ibl_dataframe.csv')\n",
    "\n",
    "ds = IBLTrialDataset()\n",
    "X, y = ds.create_dataset(data_df, window_size = 10)"
   ]
  },
  {
   "cell_type": "code",
   "execution_count": 104,
   "id": "422261f4",
   "metadata": {},
   "outputs": [
    {
     "data": {
      "text/plain": [
       "array([[-1.  ,  0.  ,  0.  ,  0.  ],\n",
       "       [ 1.  , -1.  , -1.  , -0.1 ],\n",
       "       [-1.  ,  0.  ,  0.  ,  0.  ],\n",
       "       ...,\n",
       "       [ 0.25, -2.  ,  4.  ,  0.4 ],\n",
       "       [ 0.25, -2.  ,  4.  ,  0.4 ],\n",
       "       [ 0.25, -2.  ,  4.  ,  0.4 ]])"
      ]
     },
     "execution_count": 104,
     "metadata": {},
     "output_type": "execute_result"
    }
   ],
   "source": [
    "X"
   ]
  }
 ],
 "metadata": {
  "kernelspec": {
   "display_name": "Python 3 (ipykernel)",
   "language": "python",
   "name": "python3"
  },
  "language_info": {
   "codemirror_mode": {
    "name": "ipython",
    "version": 3
   },
   "file_extension": ".py",
   "mimetype": "text/x-python",
   "name": "python",
   "nbconvert_exporter": "python",
   "pygments_lexer": "ipython3",
   "version": "3.8.8"
  }
 },
 "nbformat": 4,
 "nbformat_minor": 5
}
