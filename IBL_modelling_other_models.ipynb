{
 "cells": [
  {
   "cell_type": "markdown",
   "metadata": {
    "id": "Tj08ksVtm004"
   },
   "source": [
    "\n"
   ]
  },
  {
   "cell_type": "code",
   "execution_count": 2,
   "metadata": {
    "nteract": {
     "transient": {
      "deleting": false
     }
    }
   },
   "outputs": [],
   "source": [
    "# ! pip install pycaret"
   ]
  },
  {
   "cell_type": "code",
   "execution_count": 3,
   "metadata": {},
   "outputs": [],
   "source": [
    "# ! pip install --upgrade networkx"
   ]
  },
  {
   "cell_type": "code",
   "execution_count": 4,
   "metadata": {
    "id": "KeiZIxLXJqF_"
   },
   "outputs": [],
   "source": [
    "import pandas as pd\n",
    "import numpy as np\n",
    "import matplotlib.pyplot as plt"
   ]
  },
  {
   "cell_type": "code",
   "execution_count": 5,
   "metadata": {
    "id": "lvneC8jjJrcu"
   },
   "outputs": [],
   "source": [
    "def history_presentation(sides, outputs):\n",
    "\n",
    "    \"\"\"\n",
    "    sides : np.array of the sides where the stimulus was presented (-1: Left, 1: right)\n",
    "    outputs : np.array of the outputs (0: incorrect, 1: correct)\n",
    "    \"\"\"\n",
    "    reinforced = sides * outputs\n",
    "    punished = sides * (1 - outputs)\n",
    "\n",
    "    return(np.sum(reinforced - punished))\n",
    "\n",
    "\n",
    "def history_decision(decisions, outputs):\n",
    "\n",
    "    \"\"\"\n",
    "    decisions : np.array of the decisions where the stimulus was presented (-1: Left, 1: right)\n",
    "    outputs : np.array of the outputs (0: incorrect, 1: correct)\n",
    "    \"\"\"\n",
    "    reinforced = decisions * outputs\n",
    "    punished = decisions * (1 - outputs)\n",
    "\n",
    "    return(np.sum(reinforced - punished))\n",
    "\n",
    "\n",
    "def bias(sides):\n",
    "    \"\"\"\n",
    "    sides : np.array of the sides where the stimulus was presented (-1: Left, 1: right)\n",
    "    \"\"\"\n",
    "\n",
    "    return(np.mean(sides))\n"
   ]
  },
  {
   "cell_type": "code",
   "execution_count": 6,
   "metadata": {
    "id": "_v5E8VkvJry0"
   },
   "outputs": [],
   "source": [
    "class IBLTrialDataset:\n",
    "\n",
    "    @staticmethod\n",
    "    def apply_hist_per_subject(x, func, window_size=1):\n",
    "        \"\"\"\n",
    "        Applies function (func) on dataframe (x) in given window (wind) after groupBy per subject.\n",
    "\n",
    "        x: pd.DataFrame: (N, n_cols [1 or 2]) - two or one-column dataframe with values need to run function\n",
    "        window_size: int - numer of trials in history\n",
    "\n",
    "        \"\"\"\n",
    "        x = x.values\n",
    "        result = np.zeros(x.shape[0])\n",
    "        if x.ndim > 1:\n",
    "            padded = np.vstack([np.zeros((window_size, x.shape[-1])), x])\n",
    "            for i in range(window_size, padded.shape[0]):\n",
    "                x1, x2 = padded[i-window_size: i, 0], padded[i-window_size: i, 1]\n",
    "                result[i-window_size] = func(x1, x2)\n",
    "        else:\n",
    "            padded = np.concatenate([np.zeros(window_size), x])\n",
    "            for i in range(window_size, padded.shape[0]):\n",
    "                x1 = padded[i-window_size: i]\n",
    "                result[i-window_size] = func(x1)\n",
    "\n",
    "        return pd.DataFrame(result)\n",
    "\n",
    "\n",
    "    def create_dataset(self, df, window_size):\n",
    "        \"\"\"\n",
    "        Creates dataset as model input (X,y)\n",
    "\n",
    "        df: pd.DataFrame - input data frame\n",
    "        window_size: int - window_size of history trials\n",
    "\n",
    "        output:\n",
    "        X: np.array(N, num_features) - transformed dataset of features that can be an input to the model\n",
    "        y: np.array(N,) - numpy array of choices true choices\n",
    "        \"\"\"\n",
    "\n",
    "        df.sort_values(by=['session_start_time', 'trial_id'], inplace=True) # to make sure we're sorted for the grouping later on\n",
    "\n",
    "        # ground truth stimuli sides\n",
    "        df['sides'] = df['signed_contrast']\n",
    "        df.loc[df.sides > 0, 'sides'] = 1\n",
    "        df.loc[df.sides < 0, 'sides'] = -1\n",
    "        \n",
    "        # the actual mice response to the stimuli\n",
    "        # TODO: verify !\n",
    "        df.loc[df.trial_response_choice == 'No Go'] = 0\n",
    "        df.loc[df.trial_response_choice == 'CCW', 'trial_response_choice'] = 1\n",
    "        df.loc[df.trial_response_choice == 'CW', 'trial_response_choice'] = -1\n",
    "        \n",
    "        df.trial_response_choice = df.trial_response_choice.astype('float')\n",
    "\n",
    "        # derive a column for correct answers\n",
    "        df['correct'] = df.trial_response_choice == df.sides\n",
    "        df['correct'] = df['correct'].astype('float')\n",
    "\n",
    "#         # get history presentation per trial\n",
    "        df['history_presentation'] = (df.groupby('subject_uuid')['sides', 'correct'].apply(lambda x: self.apply_hist_per_subject(x, history_presentation, window_size)).reset_index()).iloc[:, -1]\n",
    "    \n",
    "#         # get history decision per trial\n",
    "        df['history_decision'] = (df.groupby('subject_uuid')['trial_response_choice', 'correct'].apply(lambda x: self.apply_hist_per_subject(x, history_decision, window_size)).reset_index()).iloc[:, -1]\n",
    "\n",
    "        # get bias history per trial\n",
    "        df['bias'] = (df.groupby('subject_uuid')['sides'].apply(lambda x: self.apply_hist_per_subject(x, bias, window_size)).reset_index()).iloc[:, -1]\n",
    "#         df = df.dropna()\n",
    "        # TODO: return specified columns\n",
    "        df = df.loc[df.trial_response_choice != 0.0]\n",
    "\n",
    "        \n",
    "        return df[['sides', 'history_presentation', 'history_decision', 'bias', 'signed_contrast']], df['trial_response_choice']\n"
   ]
  },
  {
   "cell_type": "code",
   "execution_count": 7,
   "metadata": {
    "colab": {
     "base_uri": "https://localhost:8080/"
    },
    "id": "aVrtxhhxJzAO",
    "outputId": "2fb55095-3260-4b7d-e65d-15b0f632b8ca"
   },
   "outputs": [
    {
     "name": "stderr",
     "output_type": "stream",
     "text": [
      "/run/user/1000/app/org.jupyter.JupyterLab/ipykernel_240/3211687875.py:60: FutureWarning: Indexing with multiple keys (implicitly converted to a tuple of keys) will be deprecated, use a list instead.\n",
      "  df['history_presentation'] = (df.groupby('subject_uuid')['sides', 'correct'].apply(lambda x: self.apply_hist_per_subject(x, history_presentation, window_size)).reset_index()).iloc[:, -1]\n",
      "/run/user/1000/app/org.jupyter.JupyterLab/ipykernel_240/3211687875.py:63: FutureWarning: Indexing with multiple keys (implicitly converted to a tuple of keys) will be deprecated, use a list instead.\n",
      "  df['history_decision'] = (df.groupby('subject_uuid')['trial_response_choice', 'correct'].apply(lambda x: self.apply_hist_per_subject(x, history_decision, window_size)).reset_index()).iloc[:, -1]\n"
     ]
    }
   ],
   "source": [
    "##### TO CHANGE DEPENDING ON YOUR PATH\n",
    "data_df = pd.read_csv('/home/a103/Documents/GitHub/Neuromatch_IBL/ibl_dataframe_fully_trained_mice.csv')\n",
    "\n",
    "ds = IBLTrialDataset()\n",
    "X, y = ds.create_dataset(data_df, window_size = 10)"
   ]
  },
  {
   "cell_type": "code",
   "execution_count": 8,
   "metadata": {
    "colab": {
     "base_uri": "https://localhost:8080/"
    },
    "id": "nEPSZaguKYwm",
    "outputId": "511c76ea-addf-4408-cba3-818bc4ef7df3"
   },
   "outputs": [
    {
     "data": {
      "text/html": [
       "<div>\n",
       "<style scoped>\n",
       "    .dataframe tbody tr th:only-of-type {\n",
       "        vertical-align: middle;\n",
       "    }\n",
       "\n",
       "    .dataframe tbody tr th {\n",
       "        vertical-align: top;\n",
       "    }\n",
       "\n",
       "    .dataframe thead th {\n",
       "        text-align: right;\n",
       "    }\n",
       "</style>\n",
       "<table border=\"1\" class=\"dataframe\">\n",
       "  <thead>\n",
       "    <tr style=\"text-align: right;\">\n",
       "      <th></th>\n",
       "      <th>sides</th>\n",
       "      <th>history_presentation</th>\n",
       "      <th>history_decision</th>\n",
       "      <th>bias</th>\n",
       "      <th>signed_contrast</th>\n",
       "    </tr>\n",
       "  </thead>\n",
       "  <tbody>\n",
       "    <tr>\n",
       "      <th>1418035</th>\n",
       "      <td>-1.0</td>\n",
       "      <td>-6.0</td>\n",
       "      <td>-6.0</td>\n",
       "      <td>-0.6</td>\n",
       "      <td>-0.5</td>\n",
       "    </tr>\n",
       "    <tr>\n",
       "      <th>1418036</th>\n",
       "      <td>-1.0</td>\n",
       "      <td>-6.0</td>\n",
       "      <td>-6.0</td>\n",
       "      <td>-0.6</td>\n",
       "      <td>-0.5</td>\n",
       "    </tr>\n",
       "    <tr>\n",
       "      <th>1418037</th>\n",
       "      <td>-1.0</td>\n",
       "      <td>-6.0</td>\n",
       "      <td>-6.0</td>\n",
       "      <td>-0.6</td>\n",
       "      <td>-0.5</td>\n",
       "    </tr>\n",
       "    <tr>\n",
       "      <th>1418038</th>\n",
       "      <td>-1.0</td>\n",
       "      <td>-7.0</td>\n",
       "      <td>-6.0</td>\n",
       "      <td>-0.7</td>\n",
       "      <td>-0.5</td>\n",
       "    </tr>\n",
       "    <tr>\n",
       "      <th>1418039</th>\n",
       "      <td>-1.0</td>\n",
       "      <td>-6.0</td>\n",
       "      <td>-4.0</td>\n",
       "      <td>-0.6</td>\n",
       "      <td>-0.5</td>\n",
       "    </tr>\n",
       "  </tbody>\n",
       "</table>\n",
       "</div>"
      ],
      "text/plain": [
       "         sides  history_presentation  history_decision  bias  signed_contrast\n",
       "1418035   -1.0                  -6.0              -6.0  -0.6             -0.5\n",
       "1418036   -1.0                  -6.0              -6.0  -0.6             -0.5\n",
       "1418037   -1.0                  -6.0              -6.0  -0.6             -0.5\n",
       "1418038   -1.0                  -7.0              -6.0  -0.7             -0.5\n",
       "1418039   -1.0                  -6.0              -4.0  -0.6             -0.5"
      ]
     },
     "execution_count": 8,
     "metadata": {},
     "output_type": "execute_result"
    }
   ],
   "source": [
    "# just a validation\n",
    "type(X)\n",
    "X.head()"
   ]
  },
  {
   "cell_type": "code",
   "execution_count": 9,
   "metadata": {
    "nteract": {
     "transient": {
      "deleting": false
     }
    }
   },
   "outputs": [],
   "source": [
    "from pycaret.classification import *"
   ]
  },
  {
   "cell_type": "code",
   "execution_count": 10,
   "metadata": {
    "nteract": {
     "transient": {
      "deleting": false
     }
    }
   },
   "outputs": [
    {
     "data": {
      "text/html": [
       "<style type=\"text/css\">\n",
       "#T_fb15f_row9_col1 {\n",
       "  background-color: lightgreen;\n",
       "}\n",
       "</style>\n",
       "<table id=\"T_fb15f\">\n",
       "  <thead>\n",
       "    <tr>\n",
       "      <th class=\"blank level0\" >&nbsp;</th>\n",
       "      <th id=\"T_fb15f_level0_col0\" class=\"col_heading level0 col0\" >Description</th>\n",
       "      <th id=\"T_fb15f_level0_col1\" class=\"col_heading level0 col1\" >Value</th>\n",
       "    </tr>\n",
       "  </thead>\n",
       "  <tbody>\n",
       "    <tr>\n",
       "      <th id=\"T_fb15f_level0_row0\" class=\"row_heading level0 row0\" >0</th>\n",
       "      <td id=\"T_fb15f_row0_col0\" class=\"data row0 col0\" >Session id</td>\n",
       "      <td id=\"T_fb15f_row0_col1\" class=\"data row0 col1\" >2607</td>\n",
       "    </tr>\n",
       "    <tr>\n",
       "      <th id=\"T_fb15f_level0_row1\" class=\"row_heading level0 row1\" >1</th>\n",
       "      <td id=\"T_fb15f_row1_col0\" class=\"data row1 col0\" >Target</td>\n",
       "      <td id=\"T_fb15f_row1_col1\" class=\"data row1 col1\" >trial_response_choice</td>\n",
       "    </tr>\n",
       "    <tr>\n",
       "      <th id=\"T_fb15f_level0_row2\" class=\"row_heading level0 row2\" >2</th>\n",
       "      <td id=\"T_fb15f_row2_col0\" class=\"data row2 col0\" >Target type</td>\n",
       "      <td id=\"T_fb15f_row2_col1\" class=\"data row2 col1\" >Binary</td>\n",
       "    </tr>\n",
       "    <tr>\n",
       "      <th id=\"T_fb15f_level0_row3\" class=\"row_heading level0 row3\" >3</th>\n",
       "      <td id=\"T_fb15f_row3_col0\" class=\"data row3 col0\" >Target mapping</td>\n",
       "      <td id=\"T_fb15f_row3_col1\" class=\"data row3 col1\" >-1.0: 0, 1.0: 1</td>\n",
       "    </tr>\n",
       "    <tr>\n",
       "      <th id=\"T_fb15f_level0_row4\" class=\"row_heading level0 row4\" >4</th>\n",
       "      <td id=\"T_fb15f_row4_col0\" class=\"data row4 col0\" >Original data shape</td>\n",
       "      <td id=\"T_fb15f_row4_col1\" class=\"data row4 col1\" >(3763674, 6)</td>\n",
       "    </tr>\n",
       "    <tr>\n",
       "      <th id=\"T_fb15f_level0_row5\" class=\"row_heading level0 row5\" >5</th>\n",
       "      <td id=\"T_fb15f_row5_col0\" class=\"data row5 col0\" >Transformed data shape</td>\n",
       "      <td id=\"T_fb15f_row5_col1\" class=\"data row5 col1\" >(3763674, 6)</td>\n",
       "    </tr>\n",
       "    <tr>\n",
       "      <th id=\"T_fb15f_level0_row6\" class=\"row_heading level0 row6\" >6</th>\n",
       "      <td id=\"T_fb15f_row6_col0\" class=\"data row6 col0\" >Transformed train set shape</td>\n",
       "      <td id=\"T_fb15f_row6_col1\" class=\"data row6 col1\" >(2634571, 6)</td>\n",
       "    </tr>\n",
       "    <tr>\n",
       "      <th id=\"T_fb15f_level0_row7\" class=\"row_heading level0 row7\" >7</th>\n",
       "      <td id=\"T_fb15f_row7_col0\" class=\"data row7 col0\" >Transformed test set shape</td>\n",
       "      <td id=\"T_fb15f_row7_col1\" class=\"data row7 col1\" >(1129103, 6)</td>\n",
       "    </tr>\n",
       "    <tr>\n",
       "      <th id=\"T_fb15f_level0_row8\" class=\"row_heading level0 row8\" >8</th>\n",
       "      <td id=\"T_fb15f_row8_col0\" class=\"data row8 col0\" >Numeric features</td>\n",
       "      <td id=\"T_fb15f_row8_col1\" class=\"data row8 col1\" >5</td>\n",
       "    </tr>\n",
       "    <tr>\n",
       "      <th id=\"T_fb15f_level0_row9\" class=\"row_heading level0 row9\" >9</th>\n",
       "      <td id=\"T_fb15f_row9_col0\" class=\"data row9 col0\" >Preprocess</td>\n",
       "      <td id=\"T_fb15f_row9_col1\" class=\"data row9 col1\" >True</td>\n",
       "    </tr>\n",
       "    <tr>\n",
       "      <th id=\"T_fb15f_level0_row10\" class=\"row_heading level0 row10\" >10</th>\n",
       "      <td id=\"T_fb15f_row10_col0\" class=\"data row10 col0\" >Imputation type</td>\n",
       "      <td id=\"T_fb15f_row10_col1\" class=\"data row10 col1\" >simple</td>\n",
       "    </tr>\n",
       "    <tr>\n",
       "      <th id=\"T_fb15f_level0_row11\" class=\"row_heading level0 row11\" >11</th>\n",
       "      <td id=\"T_fb15f_row11_col0\" class=\"data row11 col0\" >Numeric imputation</td>\n",
       "      <td id=\"T_fb15f_row11_col1\" class=\"data row11 col1\" >mean</td>\n",
       "    </tr>\n",
       "    <tr>\n",
       "      <th id=\"T_fb15f_level0_row12\" class=\"row_heading level0 row12\" >12</th>\n",
       "      <td id=\"T_fb15f_row12_col0\" class=\"data row12 col0\" >Categorical imputation</td>\n",
       "      <td id=\"T_fb15f_row12_col1\" class=\"data row12 col1\" >mode</td>\n",
       "    </tr>\n",
       "    <tr>\n",
       "      <th id=\"T_fb15f_level0_row13\" class=\"row_heading level0 row13\" >13</th>\n",
       "      <td id=\"T_fb15f_row13_col0\" class=\"data row13 col0\" >Fold Generator</td>\n",
       "      <td id=\"T_fb15f_row13_col1\" class=\"data row13 col1\" >StratifiedKFold</td>\n",
       "    </tr>\n",
       "    <tr>\n",
       "      <th id=\"T_fb15f_level0_row14\" class=\"row_heading level0 row14\" >14</th>\n",
       "      <td id=\"T_fb15f_row14_col0\" class=\"data row14 col0\" >Fold Number</td>\n",
       "      <td id=\"T_fb15f_row14_col1\" class=\"data row14 col1\" >10</td>\n",
       "    </tr>\n",
       "    <tr>\n",
       "      <th id=\"T_fb15f_level0_row15\" class=\"row_heading level0 row15\" >15</th>\n",
       "      <td id=\"T_fb15f_row15_col0\" class=\"data row15 col0\" >CPU Jobs</td>\n",
       "      <td id=\"T_fb15f_row15_col1\" class=\"data row15 col1\" >-1</td>\n",
       "    </tr>\n",
       "    <tr>\n",
       "      <th id=\"T_fb15f_level0_row16\" class=\"row_heading level0 row16\" >16</th>\n",
       "      <td id=\"T_fb15f_row16_col0\" class=\"data row16 col0\" >Use GPU</td>\n",
       "      <td id=\"T_fb15f_row16_col1\" class=\"data row16 col1\" >False</td>\n",
       "    </tr>\n",
       "    <tr>\n",
       "      <th id=\"T_fb15f_level0_row17\" class=\"row_heading level0 row17\" >17</th>\n",
       "      <td id=\"T_fb15f_row17_col0\" class=\"data row17 col0\" >Log Experiment</td>\n",
       "      <td id=\"T_fb15f_row17_col1\" class=\"data row17 col1\" >False</td>\n",
       "    </tr>\n",
       "    <tr>\n",
       "      <th id=\"T_fb15f_level0_row18\" class=\"row_heading level0 row18\" >18</th>\n",
       "      <td id=\"T_fb15f_row18_col0\" class=\"data row18 col0\" >Experiment Name</td>\n",
       "      <td id=\"T_fb15f_row18_col1\" class=\"data row18 col1\" >clf-default-name</td>\n",
       "    </tr>\n",
       "    <tr>\n",
       "      <th id=\"T_fb15f_level0_row19\" class=\"row_heading level0 row19\" >19</th>\n",
       "      <td id=\"T_fb15f_row19_col0\" class=\"data row19 col0\" >USI</td>\n",
       "      <td id=\"T_fb15f_row19_col1\" class=\"data row19 col1\" >d537</td>\n",
       "    </tr>\n",
       "  </tbody>\n",
       "</table>\n"
      ],
      "text/plain": [
       "<pandas.io.formats.style.Styler at 0x7f001feded00>"
      ]
     },
     "metadata": {},
     "output_type": "display_data"
    }
   ],
   "source": [
    "# seeting up experiments with pre-processing activiites, including specification of CV and missing value handling\n",
    "s = setup(data = X, target = y, session_id=2607)"
   ]
  },
  {
   "cell_type": "code",
   "execution_count": null,
   "metadata": {
    "nteract": {
     "transient": {
      "deleting": false
     }
    }
   },
   "outputs": [
    {
     "data": {
      "text/html": [
       "<div>\n",
       "<style scoped>\n",
       "    .dataframe tbody tr th:only-of-type {\n",
       "        vertical-align: middle;\n",
       "    }\n",
       "\n",
       "    .dataframe tbody tr th {\n",
       "        vertical-align: top;\n",
       "    }\n",
       "\n",
       "    .dataframe thead th {\n",
       "        text-align: right;\n",
       "    }\n",
       "</style>\n",
       "<table border=\"1\" class=\"dataframe\">\n",
       "  <thead>\n",
       "    <tr style=\"text-align: right;\">\n",
       "      <th></th>\n",
       "      <th></th>\n",
       "      <th></th>\n",
       "    </tr>\n",
       "    <tr>\n",
       "      <th></th>\n",
       "      <th></th>\n",
       "      <th></th>\n",
       "    </tr>\n",
       "  </thead>\n",
       "  <tbody>\n",
       "    <tr>\n",
       "      <th>Initiated</th>\n",
       "      <td>. . . . . . . . . . . . . . . . . .</td>\n",
       "      <td>11:30:21</td>\n",
       "    </tr>\n",
       "    <tr>\n",
       "      <th>Status</th>\n",
       "      <td>. . . . . . . . . . . . . . . . . .</td>\n",
       "      <td>Fitting 10 Folds</td>\n",
       "    </tr>\n",
       "    <tr>\n",
       "      <th>Estimator</th>\n",
       "      <td>. . . . . . . . . . . . . . . . . .</td>\n",
       "      <td>Logistic Regression</td>\n",
       "    </tr>\n",
       "  </tbody>\n",
       "</table>\n",
       "</div>"
      ],
      "text/plain": [
       "                                                                   \n",
       "                                                                   \n",
       "Initiated  . . . . . . . . . . . . . . . . . .             11:30:21\n",
       "Status     . . . . . . . . . . . . . . . . . .     Fitting 10 Folds\n",
       "Estimator  . . . . . . . . . . . . . . . . . .  Logistic Regression"
      ]
     },
     "metadata": {},
     "output_type": "display_data"
    },
    {
     "data": {
      "text/html": [],
      "text/plain": [
       "<IPython.core.display.HTML object>"
      ]
     },
     "metadata": {},
     "output_type": "display_data"
    },
    {
     "data": {
      "application/vnd.jupyter.widget-view+json": {
       "model_id": "69e86d445bf048148b0316c8fbca5512",
       "version_major": 2,
       "version_minor": 0
      },
      "text/plain": [
       "Processing:   0%|          | 0/4 [00:00<?, ?it/s]"
      ]
     },
     "metadata": {},
     "output_type": "display_data"
    }
   ],
   "source": [
    "# create logistic regression model\n",
    "logistic_model = create_model('lr')"
   ]
  },
  {
   "cell_type": "code",
   "execution_count": null,
   "metadata": {
    "nteract": {
     "transient": {
      "deleting": false
     }
    }
   },
   "outputs": [],
   "source": [
    "# relative importance of variables in un-tuned LR model\n",
    "plot_model(logistic_model, plot = 'feature')\n"
   ]
  },
  {
   "cell_type": "code",
   "execution_count": null,
   "metadata": {
    "nteract": {
     "transient": {
      "deleting": false
     }
    }
   },
   "outputs": [],
   "source": [
    "# tuning of hyperparameters\n",
    "tuned_logistic = tune_model(logistic_model)"
   ]
  },
  {
   "cell_type": "code",
   "execution_count": null,
   "metadata": {
    "nteract": {
     "transient": {
      "deleting": false
     }
    }
   },
   "outputs": [],
   "source": [
    "# see the tuned LR model\n",
    "tuned_logistic"
   ]
  },
  {
   "cell_type": "code",
   "execution_count": null,
   "metadata": {
    "nteract": {
     "transient": {
      "deleting": false
     }
    }
   },
   "outputs": [],
   "source": [
    "# relative importance of variables in tuned LR model\n",
    "plot_model(tuned_logistic, plot = 'feature')"
   ]
  },
  {
   "cell_type": "code",
   "execution_count": null,
   "metadata": {
    "nteract": {
     "transient": {
      "deleting": false
     }
    }
   },
   "outputs": [],
   "source": [
    "# create random forest model\n",
    "rf_model = create_model('rf')\n"
   ]
  },
  {
   "cell_type": "code",
   "execution_count": null,
   "metadata": {
    "nteract": {
     "transient": {
      "deleting": false
     }
    }
   },
   "outputs": [],
   "source": [
    "# tuning of hyperparameters\n",
    "tuned_rf = tune_model(rf_model)"
   ]
  },
  {
   "cell_type": "code",
   "execution_count": null,
   "metadata": {
    "nteract": {
     "transient": {
      "deleting": false
     }
    }
   },
   "outputs": [],
   "source": [
    "# see the tuned RF model\n",
    "tuned_rf"
   ]
  },
  {
   "cell_type": "code",
   "execution_count": null,
   "metadata": {
    "nteract": {
     "transient": {
      "deleting": false
     }
    }
   },
   "outputs": [],
   "source": [
    "# relative importance of variables in un-tuned RF model\n",
    "plot_model(rf_model, plot = 'feature')\n"
   ]
  },
  {
   "cell_type": "code",
   "execution_count": null,
   "metadata": {
    "nteract": {
     "transient": {
      "deleting": false
     }
    }
   },
   "outputs": [],
   "source": [
    "# relative importance of variables in tuned RF model\n",
    "plot_model(tuned_rf, plot = 'feature')"
   ]
  },
  {
   "cell_type": "code",
   "execution_count": null,
   "metadata": {
    "nteract": {
     "transient": {
      "deleting": false
     }
    }
   },
   "outputs": [],
   "source": [
    "# importance of variables \n",
    "rf_model.feature_importances_"
   ]
  },
  {
   "cell_type": "code",
   "execution_count": null,
   "metadata": {
    "nteract": {
     "transient": {
      "deleting": false
     }
    }
   },
   "outputs": [],
   "source": [
    "#save models\n",
    "save_model(tuned_logistic, 'my_first_pipeline_lr')\n",
    "save_model(tuned_rf, 'my_first_pipeline_rf')"
   ]
  },
  {
   "cell_type": "code",
   "execution_count": null,
   "metadata": {
    "nteract": {
     "transient": {
      "deleting": false
     }
    }
   },
   "outputs": [],
   "source": [
    "# compare models for different classifiers\n",
    "\n",
    "#compare_tree_models = compare_models(include = ['rf', 'lr'])\n",
    "\n",
    "# Above function above has return trained model object as an output. \n",
    "# The scoring grid is only displayed and not returned. \n",
    "# If you need access to the scoring grid you can use pull function to access the dataframe.\n",
    "#compare_tree_models_results = pull()\n",
    "#compare_tree_models_results\n"
   ]
  },
  {
   "cell_type": "code",
   "execution_count": null,
   "metadata": {
    "collapsed": true,
    "jupyter": {
     "outputs_hidden": true,
     "source_hidden": false
    },
    "nteract": {
     "transient": {
      "deleting": false
     }
    }
   },
   "outputs": [],
   "source": []
  },
  {
   "cell_type": "code",
   "execution_count": null,
   "metadata": {
    "collapsed": true,
    "jupyter": {
     "outputs_hidden": true,
     "source_hidden": false
    },
    "nteract": {
     "transient": {
      "deleting": false
     }
    }
   },
   "outputs": [],
   "source": []
  },
  {
   "cell_type": "code",
   "execution_count": null,
   "metadata": {
    "collapsed": true,
    "jupyter": {
     "outputs_hidden": true,
     "source_hidden": false
    },
    "nteract": {
     "transient": {
      "deleting": false
     }
    }
   },
   "outputs": [],
   "source": []
  }
 ],
 "metadata": {
  "colab": {
   "provenance": []
  },
  "kernelspec": {
   "display_name": "Python 3 (ipykernel)",
   "language": "python",
   "name": "python3"
  },
  "language_info": {
   "codemirror_mode": {
    "name": "ipython",
    "version": 3
   },
   "file_extension": ".py",
   "mimetype": "text/x-python",
   "name": "python",
   "nbconvert_exporter": "python",
   "pygments_lexer": "ipython3",
   "version": "3.9.13"
  },
  "nteract": {
   "version": "0.28.0"
  }
 },
 "nbformat": 4,
 "nbformat_minor": 4
}
